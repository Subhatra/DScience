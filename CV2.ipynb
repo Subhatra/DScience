{
  "cells": [
    {
      "cell_type": "code",
      "source": [
        "pip install azure.cognitiveservices.vision.customvision"
      ],
      "outputs": [],
      "execution_count": null,
      "metadata": {
        "gather": {
          "logged": 1664450945236
        }
      }
    },
    {
      "cell_type": "code",
      "source": [
        "from azure.cognitiveservices.vision.customvision.training import CustomVisionTrainingClient\r\n",
        "from azure.cognitiveservices.vision.customvision.prediction import CustomVisionPredictionClient\r\n",
        "import matplotlib.pyplot as plt\r\n",
        "from msrest.authentication import ApiKeyCredentials\r\n",
        "import cv2\r\n",
        "import os\r\n",
        "import pandas as pd\r\n",
        "\r\n",
        "%matplotlib inline\r\n",
        "\r\n"
      ],
      "outputs": [],
      "execution_count": null,
      "metadata": {
        "jupyter": {
          "source_hidden": false,
          "outputs_hidden": false
        },
        "nteract": {
          "transient": {
            "deleting": false
          }
        },
        "gather": {
          "logged": 1664450949475
        }
      }
    },
    {
      "cell_type": "code",
      "source": [
        "publish_iteration_name = \"Iteration8\"\r\n",
        "project_id = \"f8674453-7ef5-4e9f-8a7e-a46ac5c9f031\"\r\n",
        "training_key = \"d7eb84c4933942489534689f02cec4c2\"\r\n",
        "prediction_key = \"27d695fc9bb04245a4a9e3c3674f8153\"\r\n",
        "endpoint = \"https://northeurope.api.cognitive.microsoft.com/\"\r\n"
      ],
      "outputs": [],
      "execution_count": null,
      "metadata": {
        "jupyter": {
          "source_hidden": false,
          "outputs_hidden": false
        },
        "nteract": {
          "transient": {
            "deleting": false
          }
        },
        "gather": {
          "logged": 1664450954331
        }
      }
    },
    {
      "cell_type": "code",
      "source": [
        "\r\n",
        "def append_predictions(result, confidence_level = 0.90):\r\n",
        "    predictions = []\r\n",
        "    for prediction in result.predictions:\r\n",
        "        if prediction.probability > confidence_level:\r\n",
        "            predictions.append(prediction)\r\n",
        "                       \r\n",
        "    return predictions\r\n",
        "\r\n",
        "\r\n",
        "def add_boxes_to_images(img, predictions):\r\n",
        "    color = 'white' \r\n",
        "    for pred in predictions:\r\n",
        "        x = int(pred.bounding_box.left * img.shape[0])\r\n",
        "        y = int(pred.bounding_box.top * img.shape[1])\r\n",
        "        width = x + int(pred.bounding_box.width * img.shape[0])\r\n",
        "        height = y + int(pred.bounding_box.height * img.shape[1])\r\n",
        "\r\n",
        "        img = cv2.rectangle(img, (x, y), (width, height), (0, 0, 255), 2)\r\n",
        "        img = cv2.putText(img, str(pred.probability*100) , (x + 5, y + 20), cv2.FONT_HERSHEY_SIMPLEX, 0.6, (0,0,255), 1, cv2.LINE_AA, False) \r\n",
        "        \r\n",
        "            \r\n",
        "     \r\n",
        "\r\n",
        "def show_inline_img(img):\r\n",
        "    inline_img = cv2.cvtColor(img, cv2.COLOR_BGR2RGB)    \r\n",
        "    plt.figure(figsize=(10, 20))\r\n",
        "    plt.axis('off')    \r\n",
        "    plt.imshow(inline_img)"
      ],
      "outputs": [],
      "execution_count": null,
      "metadata": {
        "jupyter": {
          "source_hidden": false,
          "outputs_hidden": false
        },
        "nteract": {
          "transient": {
            "deleting": false
          }
        },
        "gather": {
          "logged": 1664450962176
        }
      }
    },
    {
      "cell_type": "code",
      "source": [
        "training_credentials = ApiKeyCredentials(in_headers={\"Training-key\": training_key})\r\n",
        "train  = CustomVisionPredictionClient(endpoint, training_credentials)\r\n",
        "\r\n",
        "\r\n",
        "prediction_credentials = ApiKeyCredentials(in_headers={\"Prediction-key\": prediction_key})\r\n",
        "predict = CustomVisionPredictionClient(endpoint, prediction_credentials)\r\n"
      ],
      "outputs": [],
      "execution_count": null,
      "metadata": {
        "jupyter": {
          "source_hidden": false,
          "outputs_hidden": false
        },
        "nteract": {
          "transient": {
            "deleting": false
          }
        },
        "gather": {
          "logged": 1664450969442
        }
      }
    },
    {
      "cell_type": "code",
      "source": [
        "df = pd.DataFrame(columns=['Coords', 'Solar Panel Prediction Percentage'])\r\n",
        "\r\n",
        "folder_dir = './Img/' \r\n",
        "confidence_level = 0.90\r\n",
        " \r\n",
        "for image in os.listdir(folder_dir):\r\n",
        " \r\n",
        "    if (image.endswith(\".png\")):  \r\n",
        "        image_path = os.path.join(folder_dir, image);      \r\n",
        "       \r\n",
        "        with open(image_path ,mode='rb') as test_img:\r\n",
        "            result = predict.detect_image(project_id, publish_iteration_name, test_img) \r\n",
        "            \r\n",
        "            for prediction in result.predictions:\r\n",
        "                if prediction.probability > confidence_level:\r\n",
        "                    predictions = append_predictions(result)  \r\n",
        "                    img = cv2.imread(image_path, cv2.IMREAD_COLOR)\r\n",
        "                    img = cv2.resize(img, (400, 400))\r\n",
        "                    img.shape\r\n",
        "                    add_boxes_to_images(img, predictions)\r\n",
        "                    values_to_add = {'Coords': image, 'Solar Panel Prediction Percentage': prediction.probability*100}\r\n",
        "                    row_to_add = pd.Series(values_to_add, name=0)\r\n",
        "                    df = df.append(row_to_add)                  \r\n",
        "                    cv2.imwrite('./Results/'+ image, img)\r\n",
        "                    \r\n",
        "\r\n",
        "                    \r\n",
        "print(df)         "
      ],
      "outputs": [],
      "execution_count": null,
      "metadata": {
        "jupyter": {
          "source_hidden": false,
          "outputs_hidden": false
        },
        "nteract": {
          "transient": {
            "deleting": false
          }
        },
        "gather": {
          "logged": 1664450973948
        }
      }
    },
    {
      "cell_type": "code",
      "source": [
        "df = pd.DataFrame(columns=['Coords', 'Solar Panel Prediction Percentage'])\r\n",
        "\r\n",
        "folder_dir = './Img/' \r\n",
        "confidence_level = 0.90\r\n",
        " \r\n",
        "for image in os.listdir(folder_dir):\r\n",
        " \r\n",
        "    if (image.endswith(\".png\")):  \r\n",
        "        image_path = os.path.join(folder_dir, image);      \r\n",
        "       \r\n",
        "        with open(image_path ,mode='rb') as test_img:\r\n",
        "            result = predict.detect_image(project_id, publish_iteration_name, test_img) \r\n",
        "            \r\n",
        "            for prediction in result.predictions:\r\n",
        "                if prediction.probability > confidence_level:\r\n",
        "                    values_to_add = {'Coords': image, 'Solar Panel Prediction Percentage': prediction.probability*100}\r\n",
        "                    row_to_add = pd.Series(values_to_add, name=0)\r\n",
        "                    df = df.append(row_to_add)                  \r\n",
        "            \r\n",
        "            img = cv2.imread(image_path, cv2.IMREAD_COLOR)\r\n",
        "            img = cv2.resize(img, (400, 400))\r\n",
        "            predictions = append_predictions(result)  \r\n",
        "            add_boxes_to_images(img, predictions)\r\n",
        "            img.shape\r\n",
        "            cv2.imwrite('./Results/'+ image, img)\r\n",
        "\r\n",
        "\r\n",
        "                    \r\n",
        "\r\n",
        "                    \r\n",
        "print(df)         "
      ],
      "outputs": [],
      "execution_count": null,
      "metadata": {
        "jupyter": {
          "source_hidden": false,
          "outputs_hidden": false
        },
        "nteract": {
          "transient": {
            "deleting": false
          }
        },
        "gather": {
          "logged": 1664451194577
        }
      }
    }
  ],
  "metadata": {
    "kernelspec": {
      "name": "python38-azureml",
      "language": "python",
      "display_name": "Python 3.8 - AzureML"
    },
    "language_info": {
      "name": "python",
      "version": "3.8.5",
      "mimetype": "text/x-python",
      "codemirror_mode": {
        "name": "ipython",
        "version": 3
      },
      "pygments_lexer": "ipython3",
      "nbconvert_exporter": "python",
      "file_extension": ".py"
    },
    "kernel_info": {
      "name": "python38-azureml"
    },
    "microsoft": {
      "host": {
        "AzureML": {
          "notebookHasBeenCompleted": true
        }
      }
    },
    "nteract": {
      "version": "nteract-front-end@1.0.0"
    }
  },
  "nbformat": 4,
  "nbformat_minor": 2
}